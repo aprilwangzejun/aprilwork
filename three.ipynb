{
 "cells": [
  {
   "cell_type": "markdown",
   "metadata": {},
   "source": [
    "# ** 1. 好好上网，好好学习，好好提问 **"
   ]
  },
  {
   "cell_type": "markdown",
   "metadata": {},
   "source": [
    "查文献\n",
    "问问题：\n",
    "* 用什么工具上网？\n",
    "* 用什么工具搜索？上网很重要，尤其在学习深度学习的过程中\n",
    "* stackoverflow\n",
    "* 知乎\n",
    "* CSDN，比如说支持向量机的三重境界"
   ]
  },
  {
   "cell_type": "markdown",
   "metadata": {},
   "source": [
    "# **2. Mendeley**"
   ]
  },
  {
   "cell_type": "markdown",
   "metadata": {},
   "source": [
    "学习资源几类（每一个层次都需要动手做实践）"
   ]
  },
  {
   "cell_type": "markdown",
   "metadata": {},
   "source": [
    "* 视频\n",
    "  * 万门，网易云课堂，coursera,Udacity\n",
    "* 教科书\n",
    "  * 周志华老师《机器学习》，里面写的参考资料都很重要,偏理论\n",
    "  * lan Goodfellow《深度学习》，偏理论\n",
    "  * W.Mckinney《Python for data analysis》，实际操作型\n",
    "* paper论文或小章节（理论基础较好者，在有志学习深度学习以及人工智能时，应多读paper，比如说）\n",
    "  * http://arxiv.org/abs/1710.09829\n",
    "  * http://doi.org/10.1109/5.726791\n",
    "  * http://doi.org/10.1145/2959100.2959190\n",
    "  * http://doi.org/10.1007/978-3-642-21551-3_6"
   ]
  },
  {
   "cell_type": "markdown",
   "metadata": {},
   "source": [
    "![lib](./Week1/libs.png)"
   ]
  },
  {
   "cell_type": "markdown",
   "metadata": {
    "collapsed": true
   },
   "source": [
    "# **3. Github **"
   ]
  },
  {
   "cell_type": "markdown",
   "metadata": {},
   "source": [
    "1. 安装，并注册\n",
    "2. 基本命令\n",
    "  * git init,建一个新的repository\n",
    "  * git clone，克隆一个repository\n",
    "  * git add，加入新的内容到缓存区\n",
    "  * git commit，实际提交改动\n",
    "  * git push，推送改动到远端\n",
    "  * git checkout -b，做一个分支branch\n",
    "  * git pull，获取并合并远端的版本（fetch+merge）\n",
    "  * git merge，合并其他版本\n",
    "  * git log，查看记录"
   ]
  },
  {
   "cell_type": "markdown",
   "metadata": {},
   "source": [
    "[参考资料](http://guides.github.com/)\n",
    "\n",
    "工作区，暂存区，代码库 "
   ]
  },
  {
   "cell_type": "markdown",
   "metadata": {},
   "source": [
    "** 看看github的workflow **"
   ]
  },
  {
   "cell_type": "markdown",
   "metadata": {},
   "source": [
    "![createbranch](./Week1/createbranch.png)"
   ]
  },
  {
   "cell_type": "code",
   "execution_count": null,
   "metadata": {
    "collapsed": true
   },
   "outputs": [],
   "source": []
  }
 ],
 "metadata": {
  "kernelspec": {
   "display_name": "Python 3",
   "language": "python",
   "name": "python3"
  },
  "language_info": {
   "codemirror_mode": {
    "name": "ipython",
    "version": 3
   },
   "file_extension": ".py",
   "mimetype": "text/x-python",
   "name": "python",
   "nbconvert_exporter": "python",
   "pygments_lexer": "ipython3",
   "version": "3.6.3"
  }
 },
 "nbformat": 4,
 "nbformat_minor": 2
}
